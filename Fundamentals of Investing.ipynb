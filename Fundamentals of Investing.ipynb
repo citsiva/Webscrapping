{
 "cells": [
  {
   "cell_type": "code",
   "execution_count": 1,
   "metadata": {
    "collapsed": false
   },
   "outputs": [],
   "source": [
    "import time\n",
    "import urllib\n",
    "from urllib import request\n",
    "import pandas as pd"
   ]
  },
  {
   "cell_type": "code",
   "execution_count": 2,
   "metadata": {
    "collapsed": false
   },
   "outputs": [
    {
     "data": {
      "text/plain": [
       "['SYMBOL',\n",
       " 'NAME OF COMPANY',\n",
       " ' SERIES',\n",
       " ' DATE OF LISTING',\n",
       " ' PAID UP VALUE',\n",
       " ' MARKET LOT',\n",
       " ' ISIN NUMBER',\n",
       " ' FACE VALUE']"
      ]
     },
     "execution_count": 2,
     "metadata": {},
     "output_type": "execute_result"
    }
   ],
   "source": [
    "NSE = pd.read_csv(\"stocks/NSE Listed.csv\",encoding = \"ISO-8859-1\")\n",
    "NSE.columns.values.tolist()"
   ]
  },
  {
   "cell_type": "code",
   "execution_count": 3,
   "metadata": {
    "collapsed": false
   },
   "outputs": [],
   "source": [
    "NSE['YAHOO CODE'] = NSE.SYMBOL + \".NS\"\n",
    "stocklist = NSE['YAHOO CODE'].tolist()"
   ]
  },
  {
   "cell_type": "code",
   "execution_count": 4,
   "metadata": {
    "collapsed": false
   },
   "outputs": [],
   "source": [
    "def yahooKeyStats(stock):\n",
    "    sourceCode = urllib.request.urlopen('https://in.finance.yahoo.com/q/ks?s='+stock).read()    \n",
    "    pbr = sourceCode.decode().split('Price/Book (mrq):</td><td class=\"yfnc_tabledata1\">')\n",
    "    if len(pbr) > 1:\n",
    "        pbr=pbr[1].split('</td>')[0]\n",
    "        print (' Price/Book:',stock , pbr) "
   ]
  },
  {
   "cell_type": "code",
   "execution_count": 5,
   "metadata": {
    "collapsed": false
   },
   "outputs": [
    {
     "name": "stdout",
     "output_type": "stream",
     "text": [
      " Price/Book: aapl 4.60\n"
     ]
    }
   ],
   "source": [
    "yahooKeyStats('aapl')"
   ]
  },
  {
   "cell_type": "code",
   "execution_count": 6,
   "metadata": {
    "collapsed": false
   },
   "outputs": [
    {
     "name": "stdout",
     "output_type": "stream",
     "text": [
      " Price/Book: 20MICRONS.NS 1.43\n",
      " Price/Book: 3IINFOTECH.NS 3.84\n",
      " Price/Book: 3MINDIA.NS 11.62\n",
      " Price/Book: 8KMILES.NS 8.14\n"
     ]
    },
    {
     "ename": "KeyboardInterrupt",
     "evalue": "",
     "output_type": "error",
     "traceback": [
      "\u001b[0;31m---------------------------------------------------------------------------\u001b[0m",
      "\u001b[0;31mKeyboardInterrupt\u001b[0m                         Traceback (most recent call last)",
      "\u001b[0;32m<ipython-input-6-310df1283bce>\u001b[0m in \u001b[0;36m<module>\u001b[0;34m()\u001b[0m\n\u001b[1;32m      1\u001b[0m \u001b[0;32mfor\u001b[0m \u001b[0meachStock\u001b[0m \u001b[0;32min\u001b[0m \u001b[0mstocklist\u001b[0m\u001b[0;34m:\u001b[0m\u001b[0;34m\u001b[0m\u001b[0m\n\u001b[1;32m      2\u001b[0m     \u001b[0myahooKeyStats\u001b[0m\u001b[0;34m(\u001b[0m\u001b[0meachStock\u001b[0m\u001b[0;34m)\u001b[0m\u001b[0;34m\u001b[0m\u001b[0m\n\u001b[0;32m----> 3\u001b[0;31m     \u001b[0mtime\u001b[0m\u001b[0;34m.\u001b[0m\u001b[0msleep\u001b[0m\u001b[0;34m(\u001b[0m\u001b[0;36m1\u001b[0m\u001b[0;34m)\u001b[0m\u001b[0;34m\u001b[0m\u001b[0m\n\u001b[0m",
      "\u001b[0;31mKeyboardInterrupt\u001b[0m: "
     ]
    }
   ],
   "source": [
    "for eachStock in stocklist:\n",
    "    yahooKeyStats(eachStock)\n",
    "    time.sleep(1)"
   ]
  },
  {
   "cell_type": "code",
   "execution_count": null,
   "metadata": {
    "collapsed": true
   },
   "outputs": [],
   "source": []
  }
 ],
 "metadata": {
  "kernelspec": {
   "display_name": "Python 3",
   "language": "python",
   "name": "python3"
  },
  "language_info": {
   "codemirror_mode": {
    "name": "ipython",
    "version": 3
   },
   "file_extension": ".py",
   "mimetype": "text/x-python",
   "name": "python",
   "nbconvert_exporter": "python",
   "pygments_lexer": "ipython3",
   "version": "3.5.2"
  }
 },
 "nbformat": 4,
 "nbformat_minor": 1
}
