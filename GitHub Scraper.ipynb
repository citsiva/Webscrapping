{
 "cells": [
  {
   "cell_type": "code",
   "execution_count": 1,
   "metadata": {
    "collapsed": true
   },
   "outputs": [],
   "source": [
    "import selenium\n",
    "from selenium import webdriver\n",
    "from selenium.webdriver.common.keys import Keys\n",
    "import time, random, pandas"
   ]
  },
  {
   "cell_type": "code",
   "execution_count": 6,
   "metadata": {
    "collapsed": false
   },
   "outputs": [],
   "source": [
    "driver = webdriver.Chrome()\n",
    "driver.get(r'https://github.com/')"
   ]
  },
  {
   "cell_type": "code",
   "execution_count": null,
   "metadata": {
    "collapsed": false
   },
   "outputs": [
    {
     "name": "stdout",
     "output_type": "stream",
     "text": [
      "10\n"
     ]
    }
   ],
   "source": [
    "# query = 'Twilio'\n",
    "# search = driver.find_element_by_name('q')\n",
    "# search.send_keys(query)\n",
    "# search.send_keys(Keys.RETURN)\n",
    "time.sleep(5)\n",
    "\n",
    "result_links = []\n",
    "links_set = []\n",
    "\n",
    "output={}\n",
    "folder_name = \"\"\n",
    "output_all = pandas.DataFrame()\n",
    "results_xpath='//*[@id=\"js-pjax-container\"]//a[contains(@class,\"v-align-middle\")]'\n",
    "\n",
    "page_numbers= range(51,52)\n",
    "for page_number in page_numbers:\n",
    "    page = \"https://github.com/search?p=\" + str(page_number) + \"&q=Twilio&type=Repositories&utf8=%E2%9C%93\"\n",
    "    driver.get(page)\n",
    "    time.sleep(3)\n",
    "    result_links=[]\n",
    "    try:\n",
    "        links_set = [i.get_attribute('href') for i in driver.find_elements_by_xpath(results_xpath) if i.get_attribute('href')]\n",
    "        result_links.extend(links_set)\n",
    "        print(len(result_links))\n",
    "\n",
    "        for result_link in result_links[:10]:\n",
    "            commit_set =[]\n",
    "            try:\n",
    "                driver.get(result_link)\n",
    "                folder_class = driver.find_element_by_class_name('public')\n",
    "                folder_tag = folder_class.find_element_by_tag_name('strong')\n",
    "                folder_name = folder_tag.find_element_by_tag_name('a').text\n",
    "                author_name = driver.find_element_by_class_name('url').text\n",
    "                \n",
    "                folder_name = author_name+ \"/\" +folder_name\n",
    "                \n",
    "            except:\n",
    "                print('extraction failed',result_link)\n",
    "                continue\n",
    "            time.sleep(3)        \n",
    "\n",
    "            commit_link = result_link+\"/commits/master\"\n",
    "            driver.get(commit_link)\n",
    "            time.sleep(3)\n",
    "            driver.find_element_by_tag_name('body').send_keys(Keys.END)\n",
    "\n",
    "            inner_pagination_counter = True\n",
    "\n",
    "            #Get the commit time\n",
    "            commit_li_elems = []\n",
    "            commit_list = []\n",
    "            final_commit = []\n",
    "\n",
    "            #Loop to get the full list of commits\n",
    "            while inner_pagination_counter:          \n",
    "                try:\n",
    "                    commitlistings = driver.find_element_by_class_name('commits-listing')\n",
    "                    commit_li_elems = commitlistings.find_elements_by_tag_name('li')\n",
    "                    commit_list =[commit.find_element_by_tag_name('relative-time').get_attribute('title') for commit in commit_li_elems]\n",
    "                    final_commit.extend(commit_list)\n",
    "\n",
    "                    #Click the Older button in Commit Page\n",
    "                    driver.find_element_by_class_name('pagination').click()\n",
    "                    time.sleep(5)\n",
    "                    driver.find_element_by_tag_name('body').send_keys(Keys.END)\n",
    "                except:\n",
    "                    inner_pagination_counter = False\n",
    "\n",
    "            output['folderName'] = folder_name\n",
    "            output['commitTime'] = final_commit            \n",
    "            temp = pandas.DataFrame(output)            \n",
    "            output_all = output_all.append(temp)\n",
    "    except:\n",
    "        print(\"Failed\")\n",
    "    \n",
    "output_all.to_csv('Twilio.csv')"
   ]
  },
  {
   "cell_type": "code",
   "execution_count": null,
   "metadata": {
    "collapsed": true
   },
   "outputs": [],
   "source": []
  }
 ],
 "metadata": {
  "kernelspec": {
   "display_name": "Python 3",
   "language": "python",
   "name": "python3"
  },
  "language_info": {
   "codemirror_mode": {
    "name": "ipython",
    "version": 3
   },
   "file_extension": ".py",
   "mimetype": "text/x-python",
   "name": "python",
   "nbconvert_exporter": "python",
   "pygments_lexer": "ipython3",
   "version": "3.5.2"
  }
 },
 "nbformat": 4,
 "nbformat_minor": 1
}
